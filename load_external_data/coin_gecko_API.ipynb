{
 "cells": [
  {
   "cell_type": "code",
   "execution_count": 1,
   "metadata": {},
   "outputs": [],
   "source": [
    "from typing import List\n",
    "import requests\n",
    "import json\n",
    "import pandas as pd\n",
    "import numpy as np\n",
    "import time\n",
    "import sys\n",
    "from collections.abc import MutableMapping,Iterable\n",
    "import yaml\n",
    "import datetime\n",
    "\n",
    "\n",
    "def get_API_response(url):\n",
    "    response_API = requests.get(url)\n",
    "    print('Status Code-', response_API.status_code)\n",
    "    print('Loading Data--')\n",
    "    start = time.time()\n",
    "    raw_data = response_API.text\n",
    "    # Parse Json\n",
    "    data = json.loads(raw_data)\n",
    "    print('Time taken to load data-',round((time.time()-start),3))\n",
    "    return data\n",
    "# Load api-keys\n",
    "# config_stream = open(\"../../config.yml\",'r')\n",
    "# config = yaml.load(config_stream, Loader=yaml.BaseLoader)\n",
    "# crypto_comp_API_key = config['api_key']['cryptocompare']\n",
    "\n",
    "def extract_dict_keys(dict_int, select_keys):\n",
    "     dict_out = {key:value for key,value in dict_int.items() if key in select_keys}\n",
    "     return dict_out\n",
    "\n",
    "R_ExtractDate = datetime.datetime.today().strftime(\"%Y-%m-%d\")\n",
    "frax_start_date= '2020-12-21'"
   ]
  },
  {
   "cell_type": "markdown",
   "metadata": {},
   "source": [
    "# Get API Data"
   ]
  },
  {
   "cell_type": "markdown",
   "metadata": {},
   "source": [
    "## List of all coins"
   ]
  },
  {
   "cell_type": "code",
   "execution_count": 10,
   "metadata": {},
   "outputs": [
    {
     "name": "stdout",
     "output_type": "stream",
     "text": [
      "Status Code- 200\n",
      "Loading Data--\n",
      "Time taken to load data- 0.012\n"
     ]
    }
   ],
   "source": [
    "# get basic list of all coins\n",
    "url = f\"https://api.coingecko.com/api/v3/coins/list?include_platform=True\"\n",
    "raw_data_dict = get_API_response(url)\n",
    "pdf_all_coins_info = pd.DataFrame(raw_data_dict)"
   ]
  },
  {
   "cell_type": "code",
   "execution_count": 16,
   "metadata": {},
   "outputs": [
    {
     "data": {
      "text/html": [
       "<div>\n",
       "<style scoped>\n",
       "    .dataframe tbody tr th:only-of-type {\n",
       "        vertical-align: middle;\n",
       "    }\n",
       "\n",
       "    .dataframe tbody tr th {\n",
       "        vertical-align: top;\n",
       "    }\n",
       "\n",
       "    .dataframe thead th {\n",
       "        text-align: right;\n",
       "    }\n",
       "</style>\n",
       "<table border=\"1\" class=\"dataframe\">\n",
       "  <thead>\n",
       "    <tr style=\"text-align: right;\">\n",
       "      <th></th>\n",
       "      <th>id</th>\n",
       "      <th>symbol</th>\n",
       "      <th>name</th>\n",
       "    </tr>\n",
       "  </thead>\n",
       "  <tbody>\n",
       "    <tr>\n",
       "      <th>13043</th>\n",
       "      <td>zynecoin</td>\n",
       "      <td>zyn</td>\n",
       "      <td>Zynecoin</td>\n",
       "    </tr>\n",
       "    <tr>\n",
       "      <th>13044</th>\n",
       "      <td>zyro</td>\n",
       "      <td>zyro</td>\n",
       "      <td>Zyro</td>\n",
       "    </tr>\n",
       "    <tr>\n",
       "      <th>13045</th>\n",
       "      <td>zyrri</td>\n",
       "      <td>zyr</td>\n",
       "      <td>Zyrri</td>\n",
       "    </tr>\n",
       "    <tr>\n",
       "      <th>13046</th>\n",
       "      <td>zytara-dollar</td>\n",
       "      <td>zusd</td>\n",
       "      <td>Zytara Dollar</td>\n",
       "    </tr>\n",
       "    <tr>\n",
       "      <th>13047</th>\n",
       "      <td>zyx</td>\n",
       "      <td>zyx</td>\n",
       "      <td>ZYX</td>\n",
       "    </tr>\n",
       "  </tbody>\n",
       "</table>\n",
       "</div>"
      ],
      "text/plain": [
       "                  id symbol           name\n",
       "13043       zynecoin    zyn       Zynecoin\n",
       "13044           zyro   zyro           Zyro\n",
       "13045          zyrri    zyr          Zyrri\n",
       "13046  zytara-dollar   zusd  Zytara Dollar\n",
       "13047            zyx    zyx            ZYX"
      ]
     },
     "execution_count": 16,
     "metadata": {},
     "output_type": "execute_result"
    }
   ],
   "source": [
    "pdf_all_coins_info.tail(5)"
   ]
  },
  {
   "cell_type": "markdown",
   "metadata": {},
   "source": [
    "## Historical Market Data"
   ]
  },
  {
   "cell_type": "code",
   "execution_count": 2,
   "metadata": {},
   "outputs": [],
   "source": [
    "frax_start_date_dt = datetime.datetime.strptime(frax_start_date, '%Y-%m-%d') # '2020-12-21'\n",
    "R_ExtractDate_dt = datetime.datetime.strptime(R_ExtractDate, '%Y-%m-%d') # '2022-08-08'\n",
    "delta = R_ExtractDate_dt-frax_start_date_dt\n",
    "date_difference = delta.days"
   ]
  },
  {
   "cell_type": "code",
   "execution_count": 15,
   "metadata": {},
   "outputs": [
    {
     "name": "stdout",
     "output_type": "stream",
     "text": [
      "Status Code- 200\n",
      "Loading Data--\n",
      "Time taken to load data- 0.0\n"
     ]
    }
   ],
   "source": [
    "# All coin information 7816 coins\n",
    "coin_id = \"0-5x-long-algorand-token\"\n",
    "\n",
    "frax_start_date_dt = datetime.datetime.strptime(frax_start_date, '%Y-%m-%d') # '2020-12-21'\n",
    "R_ExtractDate_dt = datetime.datetime.strptime(R_ExtractDate, '%Y-%m-%d') #'2022-08-08'\n",
    "delta = R_ExtractDate_dt-frax_start_date_dt\n",
    "date_difference = 91 #delta.days\n",
    "\n",
    "url = f\"https://api.coingecko.com/api/v3/coins/{coin_id}/market_chart?vs_currency=usd&days={date_difference}\"\n",
    "# coinId=7605&aggregate=2&limit=100&toTs=1543622400\n",
    "raw_data_dict = get_API_response(url)\n",
    "# len(raw_data_dict['Data'].keys()) 7816\n",
    "# raw_data_dict_list = []\n",
    "# for key,value in raw_data_dict['Data'].items():\n",
    "#     raw_data_dict_list.append(value)\n",
    "# pdf_all_coins_info = pd.json_normalize(raw_data_dict_list, sep='_')\n"
   ]
  },
  {
   "cell_type": "code",
   "execution_count": 4,
   "metadata": {},
   "outputs": [
    {
     "data": {
      "text/plain": [
       "([[1652140800000, 58369928594.32748],\n",
       "  [1652227200000, 54071363210.08785],\n",
       "  [1652313600000, 65985702701.50493],\n",
       "  [1652400000000, 61338080283.57989],\n",
       "  [1652486400000, 71541696924.39926]],\n",
       " [[1652140800000, 30269.586956629482],\n",
       "  [1652227200000, 31026.93386836242],\n",
       "  [1652313600000, 28913.48836365432],\n",
       "  [1652400000000, 29126.11597686014],\n",
       "  [1652486400000, 29310.728959858257]])"
      ]
     },
     "execution_count": 4,
     "metadata": {},
     "output_type": "execute_result"
    }
   ],
   "source": [
    "# Timestamp in miliseconds, value\n",
    "raw_data_dict['total_volumes'][:5],raw_data_dict['prices'][:5]\n",
    "# .keys() #['prices', 'market_caps', 'total_volumes'])"
   ]
  },
  {
   "cell_type": "code",
   "execution_count": 5,
   "metadata": {},
   "outputs": [],
   "source": [
    "# code to split it into 2 lists\n",
    "res1, res2 = map(list, zip(*raw_data_dict['market_caps']))"
   ]
  },
  {
   "cell_type": "code",
   "execution_count": null,
   "metadata": {},
   "outputs": [],
   "source": []
  }
 ],
 "metadata": {
  "kernelspec": {
   "display_name": "Python 3.8.8 ('base')",
   "language": "python",
   "name": "python3"
  },
  "language_info": {
   "codemirror_mode": {
    "name": "ipython",
    "version": 3
   },
   "file_extension": ".py",
   "mimetype": "text/x-python",
   "name": "python",
   "nbconvert_exporter": "python",
   "pygments_lexer": "ipython3",
   "version": "3.8.8"
  },
  "orig_nbformat": 4,
  "vscode": {
   "interpreter": {
    "hash": "302c0d46f582436470aa46d67f5b5eb265c7436d80c8e9bdd6e89c6d2725f851"
   }
  }
 },
 "nbformat": 4,
 "nbformat_minor": 2
}
