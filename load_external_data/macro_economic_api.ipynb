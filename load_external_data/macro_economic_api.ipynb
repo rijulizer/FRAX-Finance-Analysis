{
 "cells": [
  {
   "cell_type": "code",
   "execution_count": 1,
   "metadata": {},
   "outputs": [],
   "source": [
    "from typing import List\n",
    "import requests\n",
    "import json\n",
    "import pandas as pd\n",
    "import numpy as np\n",
    "import time\n",
    "import sys\n",
    "from collections.abc import MutableMapping,Iterable\n",
    "import yaml\n",
    "import datetime\n",
    "\n",
    "\n",
    "def get_API_response(url):\n",
    "    response_API = requests.get(url)\n",
    "    #print('Status Code-', response_API.status_code)\n",
    "    #print('Loading Data--')\n",
    "    start = time.time()\n",
    "    raw_data = response_API.text\n",
    "    # Parse Json\n",
    "    data = json.loads(raw_data)\n",
    "    print('Time taken to load data-',round((time.time()-start),3))\n",
    "    return data\n",
    "# Load api-keys\n",
    "config_stream = open(\"../../config.yml\",'r')\n",
    "config = yaml.load(config_stream, Loader=yaml.BaseLoader)\n",
    "\n",
    "etherscan_API_key = config['api_key']['etherscan']\n",
    "etherscan_APIPro_key = config['api_key']['etherscan_pro']\n",
    "\n",
    "R_ExtractDate = datetime.datetime.today().strftime(\"%Y-%m-%d\")\n",
    "frax_start_date= '2020-12-21'\n",
    "frax_contract_address = \"0x853d955aCEf822Db058eb8505911ED77F175b99e\""
   ]
  },
  {
   "cell_type": "code",
   "execution_count": 2,
   "metadata": {},
   "outputs": [
    {
     "name": "stdout",
     "output_type": "stream",
     "text": [
      "Time taken to load data- 0.0\n"
     ]
    }
   ],
   "source": [
    "indicator = \"GDP\"\n",
    "start_date = frax_start_date\n",
    "end_date = R_ExtractDate # current date\n",
    "fmp_api_key = \"76a69734d5e165b3edef078a84b1dc84\"\n",
    "url =f\"https://financialmodelingprep.com/api/v4/economic?name={indicator}&from={start_date}&to={end_date}&apikey={fmp_api_key}\"\n",
    "raw_data = get_API_response(url)\n",
    "# pdf_eth_hist_price_mcap_supply = pd.DataFrame(raw_eth_hist_price_mcap_supply['result'])"
   ]
  },
  {
   "cell_type": "code",
   "execution_count": 3,
   "metadata": {},
   "outputs": [
    {
     "data": {
      "text/plain": [
       "{'Error Message': 'Special Endpoint : This endpoint is not available under your current subscription please visit our subscription page to upgrade your plan at https://financialmodelingprep.com/developer/docs/pricing'}"
      ]
     },
     "execution_count": 3,
     "metadata": {},
     "output_type": "execute_result"
    }
   ],
   "source": [
    "raw_data"
   ]
  },
  {
   "cell_type": "code",
   "execution_count": null,
   "metadata": {},
   "outputs": [],
   "source": []
  }
 ],
 "metadata": {
  "kernelspec": {
   "display_name": "Python 3.8.8 ('base')",
   "language": "python",
   "name": "python3"
  },
  "language_info": {
   "codemirror_mode": {
    "name": "ipython",
    "version": 3
   },
   "file_extension": ".py",
   "mimetype": "text/x-python",
   "name": "python",
   "nbconvert_exporter": "python",
   "pygments_lexer": "ipython3",
   "version": "3.8.8"
  },
  "orig_nbformat": 4,
  "vscode": {
   "interpreter": {
    "hash": "302c0d46f582436470aa46d67f5b5eb265c7436d80c8e9bdd6e89c6d2725f851"
   }
  }
 },
 "nbformat": 4,
 "nbformat_minor": 2
}
