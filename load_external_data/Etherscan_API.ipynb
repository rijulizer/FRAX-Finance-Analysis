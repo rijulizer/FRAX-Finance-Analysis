{
 "cells": [
  {
   "cell_type": "code",
   "execution_count": 2,
   "metadata": {},
   "outputs": [],
   "source": [
    "from typing import List\n",
    "import requests\n",
    "import json\n",
    "import pandas as pd\n",
    "import numpy as np\n",
    "import time\n",
    "import sys\n",
    "from collections.abc import MutableMapping,Iterable\n",
    "\n",
    "\n",
    "def get_API_response(url):\n",
    "    response_API = requests.get(url)\n",
    "    print('Status Code-', response_API.status_code)\n",
    "    print('Loading Data--')\n",
    "    start = time.time()\n",
    "    raw_data = response_API.text\n",
    "    # Parse Json\n",
    "    data = json.loads(raw_data)\n",
    "    print('Time taken to load data-',round((time.time()-start),3))\n",
    "    return data\n",
    "# API key created under contact@rijumukherjee.com account\n",
    "api_key = ''"
   ]
  },
  {
   "cell_type": "code",
   "execution_count": 12,
   "metadata": {},
   "outputs": [],
   "source": [
    "# Get Historical Ether Price\n",
    "url_string = \"https://api.etherscan.io/api?module=stats&action=ethdailyprice&startdate={0}&enddate={1}&sort={2}&apikey={3}\" \n",
    "start_date = '2021-01-01'\n",
    "end_date = '2021-01-01'\n",
    "order = 'asc'\n",
    "url = url_string.format(start_date, end_date, order, api_key)"
   ]
  },
  {
   "cell_type": "code",
   "execution_count": 14,
   "metadata": {},
   "outputs": [
    {
     "name": "stdout",
     "output_type": "stream",
     "text": [
      "Status Code- 200\n",
      "Loading Data--\n",
      "Time taken to load data- 0.0\n"
     ]
    }
   ],
   "source": [
    "data = get_API_response(url)"
   ]
  },
  {
   "cell_type": "code",
   "execution_count": 15,
   "metadata": {},
   "outputs": [
    {
     "data": {
      "text/plain": [
       "{'status': '0',\n",
       " 'message': 'NOTOK',\n",
       " 'result': 'Sorry, it looks like you are trying to access an API Pro endpoint. Contact us to upgrade to API Pro.'}"
      ]
     },
     "execution_count": 15,
     "metadata": {},
     "output_type": "execute_result"
    }
   ],
   "source": [
    "data"
   ]
  },
  {
   "cell_type": "code",
   "execution_count": 16,
   "metadata": {},
   "outputs": [],
   "source": [
    "# Get total ether supply\n",
    "url= f\"https://api.etherscan.io/api?module=stats&action=ethsupply&apikey={api_key}\"\n"
   ]
  },
  {
   "cell_type": "code",
   "execution_count": 18,
   "metadata": {},
   "outputs": [
    {
     "name": "stdout",
     "output_type": "stream",
     "text": [
      "Status Code- 200\n",
      "Loading Data--\n",
      "Time taken to load data- 0.0\n"
     ]
    },
    {
     "data": {
      "text/plain": [
       "{'status': '1', 'message': 'OK', 'result': '121499119436500000000000000'}"
      ]
     },
     "execution_count": 18,
     "metadata": {},
     "output_type": "execute_result"
    }
   ],
   "source": [
    "data = get_API_response(url)\n",
    "data"
   ]
  },
  {
   "cell_type": "code",
   "execution_count": null,
   "metadata": {},
   "outputs": [],
   "source": []
  }
 ],
 "metadata": {
  "kernelspec": {
   "display_name": "Python 3.8.8 ('base')",
   "language": "python",
   "name": "python3"
  },
  "language_info": {
   "codemirror_mode": {
    "name": "ipython",
    "version": 3
   },
   "file_extension": ".py",
   "mimetype": "text/x-python",
   "name": "python",
   "nbconvert_exporter": "python",
   "pygments_lexer": "ipython3",
   "version": "3.8.8"
  },
  "orig_nbformat": 4,
  "vscode": {
   "interpreter": {
    "hash": "302c0d46f582436470aa46d67f5b5eb265c7436d80c8e9bdd6e89c6d2725f851"
   }
  }
 },
 "nbformat": 4,
 "nbformat_minor": 2
}
