{
 "cells": [
  {
   "cell_type": "code",
   "execution_count": 11,
   "metadata": {},
   "outputs": [],
   "source": [
    "import pymongo\n",
    "from pymongo import MongoClient\n",
    "uri = \"mongodb+srv://cluster0.i6hfob5.mongodb.net/?authSource=%24external&authMechanism=MONGODB-X509&retryWrites=true&w=majority\"\n",
    "client = MongoClient(uri,\n",
    "                     tls=True,\n",
    "                     tlsCertificateKeyFile=\"D:\\FRAX_project\\mongo_db_certificate.pem\")\n",
    "\n",
    "db = client['External_API_Data']\n",
    "collection = db['Frax_Historical_Mcap']"
   ]
  },
  {
   "cell_type": "code",
   "execution_count": 15,
   "metadata": {},
   "outputs": [
    {
     "name": "stdout",
     "output_type": "stream",
     "text": [
      "63\n"
     ]
    }
   ],
   "source": [
    "doc_count = collection.count_documents({})\n",
    "print(doc_count)"
   ]
  },
  {
   "cell_type": "code",
   "execution_count": 16,
   "metadata": {},
   "outputs": [
    {
     "name": "stdout",
     "output_type": "stream",
     "text": [
      "{'_id': ObjectId('62ce753114d9940f2f0c2966'), 'date': '1652313600', 'totalCirculating': {'peggedUSD': 1719314759.8836405}, 'totalUnreleased': {'peggedUSD': 0}, 'totalCirculatingUSD': {'peggedUSD': 1719314759.8836405}, 'totalMintedUSD': {'peggedUSD': 1993564332.9723868}, 'totalBridgedToUSD': {'peggedUSD': 0}}\n",
      "{'_id': ObjectId('62ce753114d9940f2f0c2967'), 'date': '1652400000', 'totalCirculating': {'peggedUSD': 1435409442.435203}, 'totalUnreleased': {'peggedUSD': 0}, 'totalCirculatingUSD': {'peggedUSD': 1435409442.435203}, 'totalMintedUSD': {'peggedUSD': 1705706683.2547345}, 'totalBridgedToUSD': {'peggedUSD': 0}}\n",
      "{'_id': ObjectId('62ce753114d9940f2f0c2968'), 'date': '1652486400', 'totalCirculating': {'peggedUSD': 1245043683.067681}, 'totalUnreleased': {'peggedUSD': 0}, 'totalCirculatingUSD': {'peggedUSD': 1245043683.067681}, 'totalMintedUSD': {'peggedUSD': 1501083253.5093231}, 'totalBridgedToUSD': {'peggedUSD': 0}}\n",
      "{'_id': ObjectId('62ce753114d9940f2f0c2969'), 'date': '1652572800', 'totalCirculating': {'peggedUSD': 1240000016.1530945}, 'totalUnreleased': {'peggedUSD': 0}, 'totalCirculatingUSD': {'peggedUSD': 1238503980.9336061}, 'totalMintedUSD': {'peggedUSD': 1483022542.1054876}, 'totalBridgedToUSD': {'peggedUSD': 0}}\n",
      "{'_id': ObjectId('62ce753114d9940f2f0c296a'), 'date': '1652659200', 'totalCirculating': {'peggedUSD': 1240120767.2980316}, 'totalUnreleased': {'peggedUSD': 0}, 'totalCirculatingUSD': {'peggedUSD': 1240120767.2980316}, 'totalMintedUSD': {'peggedUSD': 1484813940.4283357}, 'totalBridgedToUSD': {'peggedUSD': 0}}\n",
      "{'_id': ObjectId('62ce753114d9940f2f0c296b'), 'date': '1652745600', 'totalCirculating': {'peggedUSD': 1253402011.0332494}, 'totalUnreleased': {'peggedUSD': 0}, 'totalCirculatingUSD': {'peggedUSD': 1254286110.6757517}, 'totalMintedUSD': {'peggedUSD': 1498425124.584156}, 'totalBridgedToUSD': {'peggedUSD': 0}}\n",
      "{'_id': ObjectId('62ce753114d9940f2f0c296c'), 'date': '1652832000', 'totalCirculating': {'peggedUSD': 1246832997.4669867}, 'totalUnreleased': {'peggedUSD': 0}, 'totalCirculatingUSD': {'peggedUSD': 1247541996.5826664}, 'totalMintedUSD': {'peggedUSD': 1486025856.108146}, 'totalBridgedToUSD': {'peggedUSD': 0}}\n",
      "{'_id': ObjectId('62ce753114d9940f2f0c296d'), 'date': '1652918400', 'totalCirculating': {'peggedUSD': 1197798796.8699136}, 'totalUnreleased': {'peggedUSD': 0}, 'totalCirculatingUSD': {'peggedUSD': 1196597404.6766531}, 'totalMintedUSD': {'peggedUSD': 1433741835.7342935}, 'totalBridgedToUSD': {'peggedUSD': 0}}\n",
      "{'_id': ObjectId('62ce753114d9940f2f0c296e'), 'date': '1653004800', 'totalCirculating': {'peggedUSD': 1183099107.4293323}, 'totalUnreleased': {'peggedUSD': 0}, 'totalCirculatingUSD': {'peggedUSD': 1181757863.464213}, 'totalMintedUSD': {'peggedUSD': 1418201075.1367338}, 'totalBridgedToUSD': {'peggedUSD': 0}}\n",
      "{'_id': ObjectId('62ce753114d9940f2f0c296f'), 'date': '1653091200', 'totalCirculating': {'peggedUSD': 1183719108.9542248}, 'totalUnreleased': {'peggedUSD': 0}, 'totalCirculatingUSD': {'peggedUSD': 1183088802.203089}, 'totalMintedUSD': {'peggedUSD': 1419054651.114574}, 'totalBridgedToUSD': {'peggedUSD': 0}}\n",
      "{'_id': ObjectId('62ce753114d9940f2f0c2970'), 'date': '1653177600', 'totalCirculating': {'peggedUSD': 1184307373.5278141}, 'totalUnreleased': {'peggedUSD': 0}, 'totalCirculatingUSD': {'peggedUSD': 1184822736.7244787}, 'totalMintedUSD': {'peggedUSD': 1420428516.7131324}, 'totalBridgedToUSD': {'peggedUSD': 0}}\n",
      "{'_id': ObjectId('62ce753114d9940f2f0c2971'), 'date': '1653264000', 'totalCirculating': {'peggedUSD': 1177865008.5139565}, 'totalUnreleased': {'peggedUSD': 0}, 'totalCirculatingUSD': {'peggedUSD': 1181317142.3955097}, 'totalMintedUSD': {'peggedUSD': 1416522841.7117827}, 'totalBridgedToUSD': {'peggedUSD': 0}}\n",
      "{'_id': ObjectId('62ce753114d9940f2f0c2972'), 'date': '1653350400', 'totalCirculating': {'peggedUSD': 1177985571.4528418}, 'totalUnreleased': {'peggedUSD': 0}, 'totalCirculatingUSD': {'peggedUSD': 1176837353.5767796}, 'totalMintedUSD': {'peggedUSD': 1411006679.5854843}, 'totalBridgedToUSD': {'peggedUSD': 0}}\n",
      "{'_id': ObjectId('62ce753114d9940f2f0c2973'), 'date': '1653436800', 'totalCirculating': {'peggedUSD': 1178080725.5473077}, 'totalUnreleased': {'peggedUSD': 0}, 'totalCirculatingUSD': {'peggedUSD': 1177595356.2883823}, 'totalMintedUSD': {'peggedUSD': 1411801470.0804267}, 'totalBridgedToUSD': {'peggedUSD': 0}}\n",
      "{'_id': ObjectId('62ce753114d9940f2f0c2974'), 'date': '1653523200', 'totalCirculating': {'peggedUSD': 1183398513.0104012}, 'totalUnreleased': {'peggedUSD': 0}, 'totalCirculatingUSD': {'peggedUSD': 1182829298.3256433}, 'totalMintedUSD': {'peggedUSD': 1416701610.6277566}, 'totalBridgedToUSD': {'peggedUSD': 0}}\n",
      "{'_id': ObjectId('62ce753114d9940f2f0c2975'), 'date': '1653609600', 'totalCirculating': {'peggedUSD': 1183368531.4571974}, 'totalUnreleased': {'peggedUSD': 0}, 'totalCirculatingUSD': {'peggedUSD': 1184021194.7033522}, 'totalMintedUSD': {'peggedUSD': 1418074301.429531}, 'totalBridgedToUSD': {'peggedUSD': 0}}\n",
      "{'_id': ObjectId('62ce753114d9940f2f0c2976'), 'date': '1653696000', 'totalCirculating': {'peggedUSD': 1182956863.989503}, 'totalUnreleased': {'peggedUSD': 0}, 'totalCirculatingUSD': {'peggedUSD': 1182766277.8091457}, 'totalMintedUSD': {'peggedUSD': 1417064282.0153677}, 'totalBridgedToUSD': {'peggedUSD': 0}}\n",
      "{'_id': ObjectId('62ce753114d9940f2f0c2977'), 'date': '1653782400', 'totalCirculating': {'peggedUSD': 1186756270.1137118}, 'totalUnreleased': {'peggedUSD': 0}, 'totalCirculatingUSD': {'peggedUSD': 1186881164.3435786}, 'totalMintedUSD': {'peggedUSD': 1426342714.5412452}, 'totalBridgedToUSD': {'peggedUSD': 0}}\n",
      "{'_id': ObjectId('62ce753114d9940f2f0c2978'), 'date': '1653868800', 'totalCirculating': {'peggedUSD': 1191270960.7741268}, 'totalUnreleased': {'peggedUSD': 0}, 'totalCirculatingUSD': {'peggedUSD': 1191617203.6788757}, 'totalMintedUSD': {'peggedUSD': 1426607144.9152958}, 'totalBridgedToUSD': {'peggedUSD': 0}}\n",
      "{'_id': ObjectId('62ce753114d9940f2f0c2979'), 'date': '1653955200', 'totalCirculating': {'peggedUSD': 1188987238.759522}, 'totalUnreleased': {'peggedUSD': 0}, 'totalCirculatingUSD': {'peggedUSD': 1187184817.334669}, 'totalMintedUSD': {'peggedUSD': 1424030613.8481894}, 'totalBridgedToUSD': {'peggedUSD': 0}}\n",
      "{'_id': ObjectId('62ce753114d9940f2f0c297a'), 'date': '1654041600', 'totalCirculating': {'peggedUSD': 1190247032.6707726}, 'totalUnreleased': {'peggedUSD': 0}, 'totalCirculatingUSD': {'peggedUSD': 1190247032.6707726}, 'totalMintedUSD': {'peggedUSD': 1426192622.029703}, 'totalBridgedToUSD': {'peggedUSD': 0}}\n",
      "{'_id': ObjectId('62ce753114d9940f2f0c297b'), 'date': '1654128000', 'totalCirculating': {'peggedUSD': 1191694808.664043}, 'totalUnreleased': {'peggedUSD': 0}, 'totalCirculatingUSD': {'peggedUSD': 1190440049.3661044}, 'totalMintedUSD': {'peggedUSD': 1425689902.3741152}, 'totalBridgedToUSD': {'peggedUSD': 0}}\n",
      "{'_id': ObjectId('62ce753114d9940f2f0c297c'), 'date': '1654214400', 'totalCirculating': {'peggedUSD': 1190246146.7418349}, 'totalUnreleased': {'peggedUSD': 0}, 'totalCirculatingUSD': {'peggedUSD': 1189261087.12833}, 'totalMintedUSD': {'peggedUSD': 1426011463.1437848}, 'totalBridgedToUSD': {'peggedUSD': 0}}\n",
      "{'_id': ObjectId('62ce753114d9940f2f0c297d'), 'date': '1654300800', 'totalCirculating': {'peggedUSD': 1241478818.6254086}, 'totalUnreleased': {'peggedUSD': 0}, 'totalCirculatingUSD': {'peggedUSD': 1241478818.6254086}, 'totalMintedUSD': {'peggedUSD': 1477192622.029703}, 'totalBridgedToUSD': {'peggedUSD': 0}}\n",
      "{'_id': ObjectId('62ce753114d9940f2f0c297e'), 'date': '1654387200', 'totalCirculating': {'peggedUSD': 1242197843.3794873}, 'totalUnreleased': {'peggedUSD': 0}, 'totalCirculatingUSD': {'peggedUSD': 1243274406.5624306}, 'totalMintedUSD': {'peggedUSD': 1478472845.787511}, 'totalBridgedToUSD': {'peggedUSD': 0}}\n",
      "{'_id': ObjectId('62ce753114d9940f2f0c297f'), 'date': '1654473600', 'totalCirculating': {'peggedUSD': 1242259153.081861}, 'totalUnreleased': {'peggedUSD': 0}, 'totalCirculatingUSD': {'peggedUSD': 1243062894.753905}, 'totalMintedUSD': {'peggedUSD': 1478148365.6561563}, 'totalBridgedToUSD': {'peggedUSD': 0}}\n",
      "{'_id': ObjectId('62ce753114d9940f2f0c2980'), 'date': '1654560000', 'totalCirculating': {'peggedUSD': 1242343344.5873115}, 'totalUnreleased': {'peggedUSD': 0}, 'totalCirculatingUSD': {'peggedUSD': 1242343344.5873115}, 'totalMintedUSD': {'peggedUSD': 1477192622.029703}, 'totalBridgedToUSD': {'peggedUSD': 0}}\n",
      "{'_id': ObjectId('62ce753114d9940f2f0c2981'), 'date': '1654646400', 'totalCirculating': {'peggedUSD': 1262694591.9836051}, 'totalUnreleased': {'peggedUSD': 0}, 'totalCirculatingUSD': {'peggedUSD': 1262694591.9836051}, 'totalMintedUSD': {'peggedUSD': 1497192622.0297027}, 'totalBridgedToUSD': {'peggedUSD': 0}}\n",
      "{'_id': ObjectId('62ce753114d9940f2f0c2982'), 'date': '1654732800', 'totalCirculating': {'peggedUSD': 1258700014.1980538}, 'totalUnreleased': {'peggedUSD': 0}, 'totalCirculatingUSD': {'peggedUSD': 1259958714.2122517}, 'totalMintedUSD': {'peggedUSD': 1494686815.6517324}, 'totalBridgedToUSD': {'peggedUSD': 0}}\n",
      "{'_id': ObjectId('62ce753114d9940f2f0c2983'), 'date': '1654819200', 'totalCirculating': {'peggedUSD': 1255419877.660664}, 'totalUnreleased': {'peggedUSD': 0}, 'totalCirculatingUSD': {'peggedUSD': 1255425953.8928719}, 'totalMintedUSD': {'peggedUSD': 1492063343.5813334}, 'totalBridgedToUSD': {'peggedUSD': 0}}\n",
      "{'_id': ObjectId('62ce753114d9940f2f0c2984'), 'date': '1654905600', 'totalCirculating': {'peggedUSD': 1275414972.974799}, 'totalUnreleased': {'peggedUSD': 0}, 'totalCirculatingUSD': {'peggedUSD': 1276181701.4399524}, 'totalMintedUSD': {'peggedUSD': 1512965109.6880224}, 'totalBridgedToUSD': {'peggedUSD': 0}}\n",
      "{'_id': ObjectId('62ce753114d9940f2f0c2985'), 'date': '1654992000', 'totalCirculating': {'peggedUSD': 1275535846.7673585}, 'totalUnreleased': {'peggedUSD': 0}, 'totalCirculatingUSD': {'peggedUSD': 1278086918.4608932}, 'totalMintedUSD': {'peggedUSD': 1515080234.2737622}, 'totalBridgedToUSD': {'peggedUSD': 0}}\n",
      "{'_id': ObjectId('62ce753114d9940f2f0c2986'), 'date': '1655078400', 'totalCirculating': {'peggedUSD': 1280480000.3565836}, 'totalUnreleased': {'peggedUSD': 0}, 'totalCirculatingUSD': {'peggedUSD': 1281760480.35694}, 'totalMintedUSD': {'peggedUSD': 1513317928.1517324}, 'totalBridgedToUSD': {'peggedUSD': 0}}\n",
      "{'_id': ObjectId('62ce753114d9940f2f0c2987'), 'date': '1655164800', 'totalCirculating': {'peggedUSD': 1286880772.3862216}, 'totalUnreleased': {'peggedUSD': 0}, 'totalCirculatingUSD': {'peggedUSD': 1285210079.4234712}, 'totalMintedUSD': {'peggedUSD': 1509843419.731778}, 'totalBridgedToUSD': {'peggedUSD': 0}}\n",
      "{'_id': ObjectId('62ce753114d9940f2f0c2988'), 'date': '1655251200', 'totalCirculating': {'peggedUSD': 1283324642.8473668}, 'totalUnreleased': {'peggedUSD': 0}, 'totalCirculatingUSD': {'peggedUSD': 1282218827.6691182}, 'totalMintedUSD': {'peggedUSD': 1510503428.9304724}, 'totalBridgedToUSD': {'peggedUSD': 0}}\n",
      "{'_id': ObjectId('62ce753114d9940f2f0c2989'), 'date': '1655337600', 'totalCirculating': {'peggedUSD': 1234606228.416344}, 'totalUnreleased': {'peggedUSD': 0}, 'totalCirculatingUSD': {'peggedUSD': 1234606228.416344}, 'totalMintedUSD': {'peggedUSD': 1462410175.6456983}, 'totalBridgedToUSD': {'peggedUSD': 0}}\n",
      "{'_id': ObjectId('62ce753114d9940f2f0c298a'), 'date': '1655424000', 'totalCirculating': {'peggedUSD': 1234018655.8554327}, 'totalUnreleased': {'peggedUSD': 0}, 'totalCirculatingUSD': {'peggedUSD': 1232743704.8007627}, 'totalMintedUSD': {'peggedUSD': 1460080104.5239265}, 'totalBridgedToUSD': {'peggedUSD': 0}}\n",
      "{'_id': ObjectId('62ce753114d9940f2f0c298b'), 'date': '1655510400', 'totalCirculating': {'peggedUSD': 1234189899.7277834}, 'totalUnreleased': {'peggedUSD': 0}, 'totalCirculatingUSD': {'peggedUSD': 1233384800.630494}, 'totalMintedUSD': {'peggedUSD': 1460636736.5264194}, 'totalBridgedToUSD': {'peggedUSD': 0}}\n",
      "{'_id': ObjectId('62ce753114d9940f2f0c298c'), 'date': '1655596800', 'totalCirculating': {'peggedUSD': 1200936183.9879706}, 'totalUnreleased': {'peggedUSD': 0}, 'totalCirculatingUSD': {'peggedUSD': 1201780766.378084}, 'totalMintedUSD': {'peggedUSD': 1428317975.9077837}, 'totalBridgedToUSD': {'peggedUSD': 0}}\n",
      "{'_id': ObjectId('62ce753114d9940f2f0c298d'), 'date': '1655683200', 'totalCirculating': {'peggedUSD': 1200962710.3787541}, 'totalUnreleased': {'peggedUSD': 0}, 'totalCirculatingUSD': {'peggedUSD': 1200273057.542319}, 'totalMintedUSD': {'peggedUSD': 1426494553.485489}, 'totalBridgedToUSD': {'peggedUSD': 0}}\n",
      "{'_id': ObjectId('62ce753114d9940f2f0c298e'), 'date': '1655769600', 'totalCirculating': {'peggedUSD': 1201202362.4433017}, 'totalUnreleased': {'peggedUSD': 0}, 'totalCirculatingUSD': {'peggedUSD': 1200903263.0550532}, 'totalMintedUSD': {'peggedUSD': 1426358936.8253498}, 'totalBridgedToUSD': {'peggedUSD': 0}}\n",
      "{'_id': ObjectId('62ce753114d9940f2f0c298f'), 'date': '1655856000', 'totalCirculating': {'peggedUSD': 1200401030.2472048}, 'totalUnreleased': {'peggedUSD': 0}, 'totalCirculatingUSD': {'peggedUSD': 1199809448.6114783}, 'totalMintedUSD': {'peggedUSD': 1426011075.3718715}, 'totalBridgedToUSD': {'peggedUSD': 0}}\n",
      "{'_id': ObjectId('62ce753114d9940f2f0c2990'), 'date': '1655942400', 'totalCirculating': {'peggedUSD': 1198459046.4358125}, 'totalUnreleased': {'peggedUSD': 0}, 'totalCirculatingUSD': {'peggedUSD': 1197821466.2231085}, 'totalMintedUSD': {'peggedUSD': 1426155070.3099597}, 'totalBridgedToUSD': {'peggedUSD': 0}}\n",
      "{'_id': ObjectId('62ce753114d9940f2f0c2991'), 'date': '1656028800', 'totalCirculating': {'peggedUSD': 1198600747.7907736}, 'totalUnreleased': {'peggedUSD': 0}, 'totalCirculatingUSD': {'peggedUSD': 1198600747.7907736}, 'totalMintedUSD': {'peggedUSD': 1426914188.658326}, 'totalBridgedToUSD': {'peggedUSD': 0}}\n",
      "{'_id': ObjectId('62ce753114d9940f2f0c2992'), 'date': '1656115200', 'totalCirculating': {'peggedUSD': 1180023681.5838058}, 'totalUnreleased': {'peggedUSD': 0}, 'totalCirculatingUSD': {'peggedUSD': 1180354442.2217538}, 'totalMintedUSD': {'peggedUSD': 1397305743.7054071}, 'totalBridgedToUSD': {'peggedUSD': 0}}\n",
      "{'_id': ObjectId('62ce753114d9940f2f0c2993'), 'date': '1656201600', 'totalCirculating': {'peggedUSD': 1194522434.2273397}, 'totalUnreleased': {'peggedUSD': 0}, 'totalCirculatingUSD': {'peggedUSD': 1195294286.84344}, 'totalMintedUSD': {'peggedUSD': 1397816818.7304697}, 'totalBridgedToUSD': {'peggedUSD': 0}}\n",
      "{'_id': ObjectId('62ce753114d9940f2f0c2994'), 'date': '1656288000', 'totalCirculating': {'peggedUSD': 1194512004.8869166}, 'totalUnreleased': {'peggedUSD': 0}, 'totalCirculatingUSD': {'peggedUSD': 1194808745.5591705}, 'totalMintedUSD': {'peggedUSD': 1397261210.0810726}, 'totalBridgedToUSD': {'peggedUSD': 0}}\n",
      "{'_id': ObjectId('62ce753114d9940f2f0c2995'), 'date': '1656374400', 'totalCirculating': {'peggedUSD': 1164612835.475828}, 'totalUnreleased': {'peggedUSD': 0}, 'totalCirculatingUSD': {'peggedUSD': 1163100958.3850698}, 'totalMintedUSD': {'peggedUSD': 1365139687.9968936}, 'totalBridgedToUSD': {'peggedUSD': 0}}\n",
      "{'_id': ObjectId('62ce753114d9940f2f0c2996'), 'date': '1656460800', 'totalCirculating': {'peggedUSD': 1164889679.5792694}, 'totalUnreleased': {'peggedUSD': 0}, 'totalCirculatingUSD': {'peggedUSD': 1163498719.7595742}, 'totalMintedUSD': {'peggedUSD': 1365281997.433075}, 'totalBridgedToUSD': {'peggedUSD': 0}}\n",
      "{'_id': ObjectId('62ce753114d9940f2f0c2997'), 'date': '1656547200', 'totalCirculating': {'peggedUSD': 1163554134.536413}, 'totalUnreleased': {'peggedUSD': 0}, 'totalCirculatingUSD': {'peggedUSD': 1162853674.947422}, 'totalMintedUSD': {'peggedUSD': 1366091306.3167539}, 'totalBridgedToUSD': {'peggedUSD': 0}}\n",
      "{'_id': ObjectId('62ce753114d9940f2f0c2998'), 'date': '1656633600', 'totalCirculating': {'peggedUSD': 1183361063.0880132}, 'totalUnreleased': {'peggedUSD': 0}, 'totalCirculatingUSD': {'peggedUSD': 1182772258.1238525}, 'totalMintedUSD': {'peggedUSD': 1365907465.7464728}, 'totalBridgedToUSD': {'peggedUSD': 0}}\n",
      "{'_id': ObjectId('62ce753114d9940f2f0c2999'), 'date': '1656720000', 'totalCirculating': {'peggedUSD': 1183336985.1648567}, 'totalUnreleased': {'peggedUSD': 0}, 'totalCirculatingUSD': {'peggedUSD': 1183635552.9195836}, 'totalMintedUSD': {'peggedUSD': 1366932242.3349738}, 'totalBridgedToUSD': {'peggedUSD': 0}}\n",
      "{'_id': ObjectId('62ce753114d9940f2f0c299a'), 'date': '1656806400', 'totalCirculating': {'peggedUSD': 1183217826.4192786}, 'totalUnreleased': {'peggedUSD': 0}, 'totalCirculatingUSD': {'peggedUSD': 1183690865.0741026}, 'totalMintedUSD': {'peggedUSD': 1367133786.650427}, 'totalBridgedToUSD': {'peggedUSD': 0}}\n",
      "{'_id': ObjectId('62ce753114d9940f2f0c299b'), 'date': '1656892800', 'totalCirculating': {'peggedUSD': 1182835696.0277982}, 'totalUnreleased': {'peggedUSD': 0}, 'totalCirculatingUSD': {'peggedUSD': 1182743529.4703639}, 'totalMintedUSD': {'peggedUSD': 1366480954.1651058}, 'totalBridgedToUSD': {'peggedUSD': 0}}\n",
      "{'_id': ObjectId('62ce753114d9940f2f0c299c'), 'date': '1656979200', 'totalCirculating': {'peggedUSD': 1183635151.153254}, 'totalUnreleased': {'peggedUSD': 0}, 'totalCirculatingUSD': {'peggedUSD': 1183635151.153254}, 'totalMintedUSD': {'peggedUSD': 1366324118.47178}, 'totalBridgedToUSD': {'peggedUSD': 0}}\n",
      "{'_id': ObjectId('62ce753114d9940f2f0c299d'), 'date': '1657065600', 'totalCirculating': {'peggedUSD': 1184174257.1731517}, 'totalUnreleased': {'peggedUSD': 0}, 'totalCirculatingUSD': {'peggedUSD': 1183344458.9041803}, 'totalMintedUSD': {'peggedUSD': 1365366680.5090022}, 'totalBridgedToUSD': {'peggedUSD': 0}}\n",
      "{'_id': ObjectId('62ce753114d9940f2f0c299e'), 'date': '1657152000', 'totalCirculating': {'peggedUSD': 1184386480.1353087}, 'totalUnreleased': {'peggedUSD': 0}, 'totalCirculatingUSD': {'peggedUSD': 1183865764.6193173}, 'totalMintedUSD': {'peggedUSD': 1365723414.073094}, 'totalBridgedToUSD': {'peggedUSD': 0}}\n",
      "{'_id': ObjectId('62ce753114d9940f2f0c299f'), 'date': '1657238400', 'totalCirculating': {'peggedUSD': 1183987034.6611419}, 'totalUnreleased': {'peggedUSD': 0}, 'totalCirculatingUSD': {'peggedUSD': 1182708328.663708}, 'totalMintedUSD': {'peggedUSD': 1364848488.4238305}, 'totalBridgedToUSD': {'peggedUSD': 0}}\n",
      "{'_id': ObjectId('62ce753114d9940f2f0c29a0'), 'date': '1657324800', 'totalCirculating': {'peggedUSD': 1184044596.7471297}, 'totalUnreleased': {'peggedUSD': 0}, 'totalCirculatingUSD': {'peggedUSD': 1184930001.6156852}, 'totalMintedUSD': {'peggedUSD': 1367345828.321091}, 'totalBridgedToUSD': {'peggedUSD': 0}}\n",
      "{'_id': ObjectId('62ce753114d9940f2f0c29a1'), 'date': '1657411200', 'totalCirculating': {'peggedUSD': 1184120932.651563}, 'totalUnreleased': {'peggedUSD': 0}, 'totalCirculatingUSD': {'peggedUSD': 1184120932.651563}, 'totalMintedUSD': {'peggedUSD': 1366324118.47178}, 'totalBridgedToUSD': {'peggedUSD': 0}}\n",
      "{'_id': ObjectId('62ce753114d9940f2f0c29a2'), 'date': '1657497600', 'totalCirculating': {'peggedUSD': 1183503150.8366663}, 'totalUnreleased': {'peggedUSD': 0}, 'totalCirculatingUSD': {'peggedUSD': 1183503150.8366663}, 'totalMintedUSD': {'peggedUSD': 1366058926.704215}, 'totalBridgedToUSD': {'peggedUSD': 0}}\n",
      "{'_id': ObjectId('62ce753114d9940f2f0c29a3'), 'date': '1657584000', 'totalCirculating': {'peggedUSD': 1183589415.465102}, 'totalUnreleased': {'peggedUSD': 0}, 'totalCirculatingUSD': {'peggedUSD': 1183250908.892279}, 'totalMintedUSD': {'peggedUSD': 1365668233.8511777}, 'totalBridgedToUSD': {'peggedUSD': 0}}\n",
      "{'_id': ObjectId('62ce753114d9940f2f0c29a4'), 'date': '1657670400', 'totalCirculating': {'peggedUSD': 1182208382.5707958}, 'totalUnreleased': {'peggedUSD': 0}, 'totalCirculatingUSD': {'peggedUSD': 1181549455.0846024}, 'totalMintedUSD': {'peggedUSD': 1365297526.440238}, 'totalBridgedToUSD': {'peggedUSD': 0}}\n"
     ]
    }
   ],
   "source": [
    "cursor = collection.find()\n",
    "for doc in cursor:\n",
    "    print(doc)\n",
    "# Close the connection to MongoDB when you're done.\n",
    "client.close()"
   ]
  },
  {
   "cell_type": "code",
   "execution_count": 9,
   "metadata": {},
   "outputs": [
    {
     "name": "stdout",
     "output_type": "stream",
     "text": [
      "0\n"
     ]
    }
   ],
   "source": []
  },
  {
   "cell_type": "code",
   "execution_count": null,
   "metadata": {},
   "outputs": [],
   "source": []
  }
 ],
 "metadata": {
  "kernelspec": {
   "display_name": "Python 3.8.8 ('base')",
   "language": "python",
   "name": "python3"
  },
  "language_info": {
   "codemirror_mode": {
    "name": "ipython",
    "version": 3
   },
   "file_extension": ".py",
   "mimetype": "text/x-python",
   "name": "python",
   "nbconvert_exporter": "python",
   "pygments_lexer": "ipython3",
   "version": "3.8.8"
  },
  "orig_nbformat": 4,
  "vscode": {
   "interpreter": {
    "hash": "302c0d46f582436470aa46d67f5b5eb265c7436d80c8e9bdd6e89c6d2725f851"
   }
  }
 },
 "nbformat": 4,
 "nbformat_minor": 2
}
