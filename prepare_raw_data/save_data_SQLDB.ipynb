{
 "cells": [
  {
   "cell_type": "code",
   "execution_count": 1,
   "metadata": {},
   "outputs": [],
   "source": [
    "from typing import List\n",
    "import requests\n",
    "import json\n",
    "import pandas as pd\n",
    "import numpy as np\n",
    "import time\n",
    "import sys\n",
    "from collections.abc import MutableMapping,Iterable\n",
    "import datetime\n",
    "\n",
    "import pyodbc\n",
    "import yaml\n",
    "from sqlalchemy import create_engine\n",
    "import urllib\n"
   ]
  },
  {
   "cell_type": "markdown",
   "metadata": {},
   "source": [
    "## DB Connection"
   ]
  },
  {
   "cell_type": "code",
   "execution_count": 4,
   "metadata": {},
   "outputs": [],
   "source": [
    "# Load api-keys\n",
    "config_stream = open(\"../../config.yml\",'r')\n",
    "config = yaml.load(config_stream, Loader=yaml.BaseLoader)\n",
    "sql_db_config = config['azure_sql_db']\n",
    "\n",
    "server = 'ffa-server-1.database.windows.net'\n",
    "database = 'External_API_Data'\n",
    "username = sql_db_config['username']\n",
    "password = sql_db_config['password']\n",
    "driver = '{ODBC Driver 17 for SQL Server}'\n",
    "\n",
    "connection_string = 'DRIVER='+driver+';SERVER='+server+';DATABASE='+database+';UID='+username+';PWD='+ password\n",
    "#'DRIVER={ODBC Driver 17 for SQL Server};SERVER='+server+';DATABASE='+database+';UID='+username+';PWD='+ password)"
   ]
  },
  {
   "cell_type": "code",
   "execution_count": 5,
   "metadata": {},
   "outputs": [],
   "source": [
    "cnxn = pyodbc.connect(connection_string)\n",
    "params = urllib.parse.quote_plus(connection_string)\n",
    "# define sql alchemy engine\n",
    "engine = create_engine(\"mssql+pyodbc:///?odbc_connect=%s\" % params)"
   ]
  },
  {
   "cell_type": "markdown",
   "metadata": {},
   "source": [
    "## Save pd.DataFrame to SQL DB"
   ]
  },
  {
   "cell_type": "code",
   "execution_count": 4,
   "metadata": {},
   "outputs": [],
   "source": [
    "# pdf_SC_basic_info_2 = pd.read_csv('../data_raw/StableCoins_basicInfo2.csv')\n",
    "# # name=\"StableCoins_basicInfo\",schema=\"Defilama\"\n",
    "# pdf_SC_basic_info_2.to_sql(name=\"StableCoins_basicInfo\",schema=\"Defilama\", con=engine, index = False, if_exists='replace')\n"
   ]
  },
  {
   "cell_type": "code",
   "execution_count": 13,
   "metadata": {},
   "outputs": [],
   "source": [
    "# pdf_SC_Mcap_allChains= pd.read_csv('../data_raw/StableCoins_hist_mcap_allChains.csv')\n",
    "# # name=\"StableCoins_basicInfo\",schema=\"Defilama\"\n",
    "# pdf_SC_Mcap_allChains.to_sql(name=\"StableCoins_hist_mcap_allChains\",schema=\"Defilama\", con=engine, index = False, if_exists='replace')\n"
   ]
  },
  {
   "cell_type": "code",
   "execution_count": 6,
   "metadata": {},
   "outputs": [],
   "source": [
    "# pdf_SC_hist_price = pd.read_csv('../data_raw/StableCoins_hist_price.csv')\n",
    "# pdf_SC_hist_price.to_sql(name=\"StableCoins_hist_price\",schema=\"Defilama\", con=engine, index = False, if_exists='replace')"
   ]
  },
  {
   "cell_type": "code",
   "execution_count": 15,
   "metadata": {},
   "outputs": [],
   "source": [
    "# pdf_protocols_tvl_top50 = pd.read_csv('../data_raw/Protocols_tvl_top50.csv')\n",
    "# pdf_protocols_tvl_top50.to_sql(name=\"Protocols_tvl_top50\",schema=\"Defilama\", con=engine, index = False, if_exists='replace')"
   ]
  },
  {
   "cell_type": "code",
   "execution_count": 16,
   "metadata": {},
   "outputs": [],
   "source": [
    "# pdf_protocols_mcap_top50 = pd.read_csv('../data_raw/Protocols_mcap_top50.csv')\n",
    "# pdf_protocols_mcap_top50.to_sql(name=\"Protocols_mcap_top50\",schema=\"Defilama\", con=engine, index = False, if_exists='replace')\n"
   ]
  },
  {
   "cell_type": "code",
   "execution_count": null,
   "metadata": {},
   "outputs": [],
   "source": [
    "# pdf_protocols_mcap_top50 = pd.read_csv('../data_raw/Protocols_mcap_top50.csv')\n",
    "# pdf_protocols_mcap_top50.to_sql(name=\"Protocols_mcap_top50\",schema=\"Defilama\", con=engine, index = False, if_exists='replace')\n"
   ]
  },
  {
   "cell_type": "code",
   "execution_count": 17,
   "metadata": {},
   "outputs": [],
   "source": [
    "# pdf_protocols_tvlMcap_DLCategory_AlgoStables = pd.read_csv('../data_raw/Protocols_tvlMcap_DLCategory_AlgoStables.csv')\n",
    "# pdf_protocols_tvlMcap_DLCategory_AlgoStables.to_sql(name=\"Protocols_tvlMcap_DLCategory_AlgoStables\",schema=\"Defilama\", con=engine, index = False, if_exists='replace')\n"
   ]
  },
  {
   "cell_type": "code",
   "execution_count": 18,
   "metadata": {},
   "outputs": [],
   "source": [
    "# pdf_protocols_tvlMcap_DLCategory_ReserveCurrency = pd.read_csv('../data_raw/Protocols_tvlMcap_DLCategory_ReserveCurrency.csv')\n",
    "# pdf_protocols_tvlMcap_DLCategory_ReserveCurrency.to_sql(name=\"Protocols_tvlMcap_DLCategory_ReserveCurrency\",schema=\"Defilama\", con=engine, index = False, if_exists='replace')\n"
   ]
  },
  {
   "cell_type": "code",
   "execution_count": 19,
   "metadata": {},
   "outputs": [],
   "source": [
    "# pdf_protocols_tvlMcap_DLCategory_CDP = pd.read_csv('../data_raw/Protocols_tvlMcap_DLCategory_CDP.csv')\n",
    "# pdf_protocols_tvlMcap_DLCategory_CDP.to_sql(name=\"Protocols_tvlMcap_DLCategory_CDP\",schema=\"Defilama\", con=engine, index = False, if_exists='replace')"
   ]
  },
  {
   "cell_type": "code",
   "execution_count": 20,
   "metadata": {},
   "outputs": [
    {
     "ename": "OperationalError",
     "evalue": "('08S01', '[08S01] [Microsoft][ODBC Driver 17 for SQL Server]TCP Provider: An existing connection was forcibly closed by the remote host.\\r\\n (10054) (SQLEndTran); [08S01] [Microsoft][ODBC Driver 17 for SQL Server]Communication link failure (10054)')",
     "output_type": "error",
     "traceback": [
      "\u001b[1;31m---------------------------------------------------------------------------\u001b[0m",
      "\u001b[1;31mOperationalError\u001b[0m                          Traceback (most recent call last)",
      "\u001b[1;32m<ipython-input-20-aa3653472c6d>\u001b[0m in \u001b[0;36m<module>\u001b[1;34m\u001b[0m\n\u001b[0;32m      1\u001b[0m \u001b[1;31m# End Connection\u001b[0m\u001b[1;33m\u001b[0m\u001b[1;33m\u001b[0m\u001b[1;33m\u001b[0m\u001b[0m\n\u001b[1;32m----> 2\u001b[1;33m \u001b[0mcnxn\u001b[0m\u001b[1;33m.\u001b[0m\u001b[0mcommit\u001b[0m\u001b[1;33m(\u001b[0m\u001b[1;33m)\u001b[0m\u001b[1;33m\u001b[0m\u001b[1;33m\u001b[0m\u001b[0m\n\u001b[0m",
      "\u001b[1;31mOperationalError\u001b[0m: ('08S01', '[08S01] [Microsoft][ODBC Driver 17 for SQL Server]TCP Provider: An existing connection was forcibly closed by the remote host.\\r\\n (10054) (SQLEndTran); [08S01] [Microsoft][ODBC Driver 17 for SQL Server]Communication link failure (10054)')"
     ]
    }
   ],
   "source": [
    "# End Connection\n",
    "cnxn.commit()"
   ]
  },
  {
   "cell_type": "code",
   "execution_count": null,
   "metadata": {},
   "outputs": [],
   "source": []
  }
 ],
 "metadata": {
  "kernelspec": {
   "display_name": "Python 3.8.8 ('base')",
   "language": "python",
   "name": "python3"
  },
  "language_info": {
   "codemirror_mode": {
    "name": "ipython",
    "version": 3
   },
   "file_extension": ".py",
   "mimetype": "text/x-python",
   "name": "python",
   "nbconvert_exporter": "python",
   "pygments_lexer": "ipython3",
   "version": "3.8.8"
  },
  "orig_nbformat": 4,
  "vscode": {
   "interpreter": {
    "hash": "302c0d46f582436470aa46d67f5b5eb265c7436d80c8e9bdd6e89c6d2725f851"
   }
  }
 },
 "nbformat": 4,
 "nbformat_minor": 2
}
