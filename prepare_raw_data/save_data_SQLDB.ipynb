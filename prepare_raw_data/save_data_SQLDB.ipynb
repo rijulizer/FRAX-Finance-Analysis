{
 "cells": [
  {
   "cell_type": "code",
   "execution_count": 2,
   "metadata": {},
   "outputs": [],
   "source": [
    "from typing import List\n",
    "import requests\n",
    "import json\n",
    "import pandas as pd\n",
    "import numpy as np\n",
    "import time\n",
    "import sys\n",
    "from collections.abc import MutableMapping,Iterable\n",
    "import datetime\n",
    "\n",
    "import pyodbc\n",
    "import yaml\n",
    "from sqlalchemy import create_engine\n",
    "import urllib\n"
   ]
  },
  {
   "cell_type": "markdown",
   "metadata": {},
   "source": [
    "## DB Connection"
   ]
  },
  {
   "cell_type": "code",
   "execution_count": 4,
   "metadata": {},
   "outputs": [],
   "source": [
    "# AZURE DB\n",
    "# # Load api-keys\n",
    "# config_stream = open(\"../../config.yml\",'r')\n",
    "# config = yaml.load(config_stream, Loader=yaml.BaseLoader)\n",
    "# sql_db_config = config['azure_sql_db']\n",
    "\n",
    "# server = 'ffa-server-1.database.windows.net'\n",
    "# database = 'External_API_Data'\n",
    "# username = sql_db_config['username']\n",
    "# password = sql_db_config['password']\n",
    "# driver = '{ODBC Driver 17 for SQL Server}'\n",
    "\n",
    "# connection_string = 'DRIVER='+driver+';SERVER='+server+';DATABASE='+database+';UID='+username+';PWD='+ password\n",
    "# #'DRIVER={ODBC Driver 17 for SQL Server};SERVER='+server+';DATABASE='+database+';UID='+username+';PWD='+ password)"
   ]
  },
  {
   "cell_type": "code",
   "execution_count": 3,
   "metadata": {},
   "outputs": [],
   "source": [
    "# Local DB\n",
    "server = 'localhost\\SQLEXPRESS'\n",
    "database = 'Frax_analysis'\n",
    "driver = '{SQL Server Native Client 11.0}'\n",
    "connection_string = 'DRIVER='+driver+';SERVER='+server+';DATABASE='+database+';Trusted_Connection=yes;'"
   ]
  },
  {
   "cell_type": "code",
   "execution_count": 24,
   "metadata": {},
   "outputs": [],
   "source": [
    "cnxn = pyodbc.connect(connection_string)\n",
    "params = urllib.parse.quote_plus(connection_string)\n",
    "# define sql alchemy engine\n",
    "engine = create_engine(\"mssql+pyodbc:///?odbc_connect=%s\" % params)"
   ]
  },
  {
   "cell_type": "markdown",
   "metadata": {},
   "source": [
    "## Save pd.DataFrame to SQL DB"
   ]
  },
  {
   "cell_type": "markdown",
   "metadata": {},
   "source": [
    "Create a schema in the database \n",
    "sql - create schema Defilama"
   ]
  },
  {
   "cell_type": "code",
   "execution_count": 5,
   "metadata": {},
   "outputs": [],
   "source": [
    "# pdf_SC_basic_info_2 = pd.read_csv('../data_raw/StableCoins_basicInfo2.csv')\n",
    "# # name=\"StableCoins_basicInfo\",schema=\"Defilama\"\n",
    "# pdf_SC_basic_info_2.to_sql(name=\"StableCoins_basicInfo\", schema=\"Defilama\",con=engine, index = False, if_exists='replace')\n",
    "# # , "
   ]
  },
  {
   "cell_type": "code",
   "execution_count": 10,
   "metadata": {},
   "outputs": [],
   "source": [
    "# pdf_SC_Mcap_allChains= pd.read_csv('../data_raw/StableCoins_hist_mcap_allChains.csv')\n",
    "# # name=\"StableCoins_basicInfo\",schema=\"Defilama\"\n",
    "# pdf_SC_Mcap_allChains.to_sql(name=\"StableCoins_hist_mcap_allChains\",schema=\"Defilama\", con=engine, index = False, if_exists='replace')\n"
   ]
  },
  {
   "cell_type": "code",
   "execution_count": 11,
   "metadata": {},
   "outputs": [],
   "source": [
    "# pdf_SC_hist_price = pd.read_csv('../data_raw/StableCoins_hist_price.csv')\n",
    "# pdf_SC_hist_price.to_sql(name=\"StableCoins_hist_price\",schema=\"Defilama\", con=engine, index = False, if_exists='replace')"
   ]
  },
  {
   "cell_type": "code",
   "execution_count": 12,
   "metadata": {},
   "outputs": [],
   "source": [
    "# pdf_protocols_tvl_top50 = pd.read_csv('../data_raw/Protocols_tvl_top50.csv')\n",
    "# pdf_protocols_tvl_top50.to_sql(name=\"Protocols_top50_byTVL\",schema=\"Defilama\", con=engine, index = False, if_exists='replace')"
   ]
  },
  {
   "cell_type": "code",
   "execution_count": 13,
   "metadata": {},
   "outputs": [],
   "source": [
    "# pdf_protocols_mcap_top50 = pd.read_csv('../data_raw/Protocols_mcap_top50.csv')\n",
    "# pdf_protocols_mcap_top50.to_sql(name=\"Protocols_top50_byMCAP\",schema=\"Defilama\", con=engine, index = False, if_exists='replace')\n"
   ]
  },
  {
   "cell_type": "code",
   "execution_count": 21,
   "metadata": {},
   "outputs": [],
   "source": [
    "# Protocols_top50_common_byMcapTVL = pd.read_csv(\"../data_raw/protocls_tvlMcap_top50.csv\")\n",
    "# Protocols_top50_common_byMcapTVL.to_sql(name=\"Protocols_top50_common_byMcapTVL\", schema=\"Defilama\", con=engine, index = False, if_exists='replace')"
   ]
  },
  {
   "cell_type": "code",
   "execution_count": 17,
   "metadata": {},
   "outputs": [],
   "source": [
    "# pdf_protocol_hist_tvl_top50_McapTVL = pd.read_csv('../data_raw/Protocols_hist_tvl_top50_McapTVL.csv')\n",
    "# pdf_protocol_hist_tvl_top50_McapTVL.to_sql(name=\"Protocols_hist_tvl_top50_McapTVL\", schema=\"Defilama\", con=engine, index = False, if_exists='replace')"
   ]
  },
  {
   "cell_type": "code",
   "execution_count": 27,
   "metadata": {},
   "outputs": [],
   "source": [
    "# pdf_CG_coins_hist_price_mcap_vol = pd.read_csv(\"../data_raw/Protocols_hist_price_mcap_vol_tvlMcapTop50.csv\")\n",
    "# pdf_CG_coins_hist_price_mcap_vol.to_sql(name=\"Protocols_hist_price_mcap_vol_top50_byMcapTVL\", schema=\"Coingecko\", con=engine, index = False, if_exists='replace')"
   ]
  },
  {
   "cell_type": "code",
   "execution_count": 28,
   "metadata": {},
   "outputs": [],
   "source": [
    "# End Connection\n",
    "cnxn.commit()"
   ]
  },
  {
   "cell_type": "code",
   "execution_count": null,
   "metadata": {},
   "outputs": [],
   "source": []
  }
 ],
 "metadata": {
  "kernelspec": {
   "display_name": "Python 3.8.8 ('base')",
   "language": "python",
   "name": "python3"
  },
  "language_info": {
   "codemirror_mode": {
    "name": "ipython",
    "version": 3
   },
   "file_extension": ".py",
   "mimetype": "text/x-python",
   "name": "python",
   "nbconvert_exporter": "python",
   "pygments_lexer": "ipython3",
   "version": "3.8.8"
  },
  "orig_nbformat": 4,
  "vscode": {
   "interpreter": {
    "hash": "302c0d46f582436470aa46d67f5b5eb265c7436d80c8e9bdd6e89c6d2725f851"
   }
  }
 },
 "nbformat": 4,
 "nbformat_minor": 2
}
