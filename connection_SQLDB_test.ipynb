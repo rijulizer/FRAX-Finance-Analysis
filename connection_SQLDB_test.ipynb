{
 "cells": [
  {
   "cell_type": "code",
   "execution_count": 51,
   "metadata": {},
   "outputs": [],
   "source": [
    "import pyodbc\n",
    "import yaml\n",
    "from sqlalchemy import create_engine\n",
    "import urllib\n",
    "import pandas as pd"
   ]
  },
  {
   "cell_type": "markdown",
   "metadata": {},
   "source": [
    "## Connection"
   ]
  },
  {
   "cell_type": "code",
   "execution_count": 52,
   "metadata": {},
   "outputs": [],
   "source": [
    "# Load api-keys\n",
    "config_stream = open(\"../config.yml\",'r')\n",
    "config = yaml.load(config_stream, Loader=yaml.BaseLoader)\n",
    "sql_db_config = config['azure_sql_db']\n",
    "\n",
    "server = 'ffa-server-1.database.windows.net'\n",
    "database = 'External_API_Data'\n",
    "username = sql_db_config['username']\n",
    "password = sql_db_config['password']\n",
    "driver = '{ODBC Driver 17 for SQL Server}'\n",
    "\n",
    "connection_string = 'DRIVER='+driver+';SERVER='+server+';DATABASE='+database+';UID='+username+';PWD='+ password\n",
    "#'DRIVER={ODBC Driver 17 for SQL Server};SERVER='+server+';DATABASE='+database+';UID='+username+';PWD='+ password)"
   ]
  },
  {
   "cell_type": "code",
   "execution_count": 54,
   "metadata": {},
   "outputs": [
    {
     "name": "stdout",
     "output_type": "stream",
     "text": [
      "Microsoft SQL Azure (RTM) - 12.0.2000.8 \n",
      "\tMay 12 2022 23:11:24 \n",
      "\tCopyright (C) 2022 Microsoft Corporation\n",
      "\n"
     ]
    }
   ],
   "source": [
    "cnxn = pyodbc.connect(connection_string)\n",
    "cursor = cnxn.cursor()\n",
    "#Sample select query\n",
    "cursor.execute(\"SELECT @@version;\") \n",
    "row = cursor.fetchone() \n",
    "while row: \n",
    "    print(row[0])\n",
    "    row = cursor.fetchone()\n",
    "cnxn.commit()\n",
    "cursor.close()"
   ]
  },
  {
   "cell_type": "markdown",
   "metadata": {},
   "source": [
    "## From Pandas to SQL by defining table first"
   ]
  },
  {
   "cell_type": "code",
   "execution_count": 9,
   "metadata": {},
   "outputs": [],
   "source": [
    "cnxn = pyodbc.connect(connection_string)\n",
    "cursor = cnxn.cursor()\n",
    "df_test = pd.read_csv('./data_checks/HR_test.csv')\n",
    "df_test = df_test[['DepartmentID','Name','GroupName']]\n",
    "for index, row in df_test.iterrows():\n",
    "     cursor.execute(\"INSERT INTO HumanResources.Department (DepartmentID,Name,GroupName) values(?,?,?)\", row.DepartmentID, row.Name, row.GroupName)\n",
    "cnxn.commit()\n",
    "cursor.close()"
   ]
  },
  {
   "cell_type": "markdown",
   "metadata": {},
   "source": [
    "## From SQL to Pandas (Loading)"
   ]
  },
  {
   "cell_type": "code",
   "execution_count": 55,
   "metadata": {},
   "outputs": [],
   "source": [
    "# Read from SQL database to pandasd dataframe\n",
    "cnxn = pyodbc.connect(connection_string)\n",
    "id = 11\n",
    "query = f\"SELECT * FROM HumanResources.Department WHERE DepartmentID < {id}\"\n",
    "df = pd.read_sql_query(query, con=cnxn)\n",
    "cnxn.commit()"
   ]
  },
  {
   "cell_type": "code",
   "execution_count": 56,
   "metadata": {},
   "outputs": [
    {
     "data": {
      "text/html": [
       "<div>\n",
       "<style scoped>\n",
       "    .dataframe tbody tr th:only-of-type {\n",
       "        vertical-align: middle;\n",
       "    }\n",
       "\n",
       "    .dataframe tbody tr th {\n",
       "        vertical-align: top;\n",
       "    }\n",
       "\n",
       "    .dataframe thead th {\n",
       "        text-align: right;\n",
       "    }\n",
       "</style>\n",
       "<table border=\"1\" class=\"dataframe\">\n",
       "  <thead>\n",
       "    <tr style=\"text-align: right;\">\n",
       "      <th></th>\n",
       "      <th>DepartmentID</th>\n",
       "      <th>Name</th>\n",
       "      <th>GroupName</th>\n",
       "    </tr>\n",
       "  </thead>\n",
       "  <tbody>\n",
       "    <tr>\n",
       "      <th>0</th>\n",
       "      <td>1</td>\n",
       "      <td>Engineering</td>\n",
       "      <td>Research and Development</td>\n",
       "    </tr>\n",
       "    <tr>\n",
       "      <th>1</th>\n",
       "      <td>2</td>\n",
       "      <td>Tool Design</td>\n",
       "      <td>Research and Development</td>\n",
       "    </tr>\n",
       "    <tr>\n",
       "      <th>2</th>\n",
       "      <td>3</td>\n",
       "      <td>Sales</td>\n",
       "      <td>Sales and Marketing</td>\n",
       "    </tr>\n",
       "    <tr>\n",
       "      <th>3</th>\n",
       "      <td>4</td>\n",
       "      <td>Marketing</td>\n",
       "      <td>Sales and Marketing</td>\n",
       "    </tr>\n",
       "    <tr>\n",
       "      <th>4</th>\n",
       "      <td>5</td>\n",
       "      <td>Purchasing</td>\n",
       "      <td>Inventory Management</td>\n",
       "    </tr>\n",
       "    <tr>\n",
       "      <th>5</th>\n",
       "      <td>6</td>\n",
       "      <td>Research and Development</td>\n",
       "      <td>Research and Development</td>\n",
       "    </tr>\n",
       "    <tr>\n",
       "      <th>6</th>\n",
       "      <td>7</td>\n",
       "      <td>Production</td>\n",
       "      <td>Manufacturing</td>\n",
       "    </tr>\n",
       "    <tr>\n",
       "      <th>7</th>\n",
       "      <td>8</td>\n",
       "      <td>Production Control</td>\n",
       "      <td>Manufacturing</td>\n",
       "    </tr>\n",
       "    <tr>\n",
       "      <th>8</th>\n",
       "      <td>9</td>\n",
       "      <td>Human Resources</td>\n",
       "      <td>Executive General and Administration</td>\n",
       "    </tr>\n",
       "    <tr>\n",
       "      <th>9</th>\n",
       "      <td>10</td>\n",
       "      <td>Finance</td>\n",
       "      <td>Executive General and Administration</td>\n",
       "    </tr>\n",
       "  </tbody>\n",
       "</table>\n",
       "</div>"
      ],
      "text/plain": [
       "   DepartmentID                      Name  \\\n",
       "0             1               Engineering   \n",
       "1             2               Tool Design   \n",
       "2             3                     Sales   \n",
       "3             4                 Marketing   \n",
       "4             5                Purchasing   \n",
       "5             6  Research and Development   \n",
       "6             7                Production   \n",
       "7             8        Production Control   \n",
       "8             9           Human Resources   \n",
       "9            10                   Finance   \n",
       "\n",
       "                              GroupName  \n",
       "0              Research and Development  \n",
       "1              Research and Development  \n",
       "2                   Sales and Marketing  \n",
       "3                   Sales and Marketing  \n",
       "4                  Inventory Management  \n",
       "5              Research and Development  \n",
       "6                         Manufacturing  \n",
       "7                         Manufacturing  \n",
       "8  Executive General and Administration  \n",
       "9  Executive General and Administration  "
      ]
     },
     "execution_count": 56,
     "metadata": {},
     "output_type": "execute_result"
    }
   ],
   "source": [
    "df"
   ]
  },
  {
   "cell_type": "markdown",
   "metadata": {},
   "source": [
    "## From Pnadas to SQL-DB (Auto-table creation)"
   ]
  },
  {
   "cell_type": "code",
   "execution_count": 45,
   "metadata": {},
   "outputs": [
    {
     "data": {
      "text/html": [
       "<div>\n",
       "<style scoped>\n",
       "    .dataframe tbody tr th:only-of-type {\n",
       "        vertical-align: middle;\n",
       "    }\n",
       "\n",
       "    .dataframe tbody tr th {\n",
       "        vertical-align: top;\n",
       "    }\n",
       "\n",
       "    .dataframe thead th {\n",
       "        text-align: right;\n",
       "    }\n",
       "</style>\n",
       "<table border=\"1\" class=\"dataframe\">\n",
       "  <thead>\n",
       "    <tr style=\"text-align: right;\">\n",
       "      <th></th>\n",
       "      <th>DepartmentID</th>\n",
       "      <th>Name</th>\n",
       "      <th>GroupName</th>\n",
       "    </tr>\n",
       "  </thead>\n",
       "  <tbody>\n",
       "    <tr>\n",
       "      <th>0</th>\n",
       "      <td>31</td>\n",
       "      <td>Engineering</td>\n",
       "      <td>Research and Development</td>\n",
       "    </tr>\n",
       "    <tr>\n",
       "      <th>1</th>\n",
       "      <td>32</td>\n",
       "      <td>Tool Design</td>\n",
       "      <td>Research and Development</td>\n",
       "    </tr>\n",
       "    <tr>\n",
       "      <th>2</th>\n",
       "      <td>33</td>\n",
       "      <td>Sales</td>\n",
       "      <td>Sales and Marketing</td>\n",
       "    </tr>\n",
       "    <tr>\n",
       "      <th>3</th>\n",
       "      <td>34</td>\n",
       "      <td>Marketing</td>\n",
       "      <td>Sales and Marketing</td>\n",
       "    </tr>\n",
       "    <tr>\n",
       "      <th>4</th>\n",
       "      <td>35</td>\n",
       "      <td>Purchasing</td>\n",
       "      <td>Inventory Management</td>\n",
       "    </tr>\n",
       "  </tbody>\n",
       "</table>\n",
       "</div>"
      ],
      "text/plain": [
       "   DepartmentID         Name                 GroupName\n",
       "0            31  Engineering  Research and Development\n",
       "1            32  Tool Design  Research and Development\n",
       "2            33        Sales       Sales and Marketing\n",
       "3            34    Marketing       Sales and Marketing\n",
       "4            35   Purchasing      Inventory Management"
      ]
     },
     "execution_count": 45,
     "metadata": {},
     "output_type": "execute_result"
    }
   ],
   "source": [
    "df_test_2 = df_test.copy()\n",
    "df_test_2['DepartmentID'] = df_test_2['DepartmentID']+30 \n",
    "df_test_2.head()"
   ]
  },
  {
   "cell_type": "code",
   "execution_count": 47,
   "metadata": {},
   "outputs": [],
   "source": [
    "cnxn = pyodbc.connect(connection_string)\n",
    "params = urllib.parse.quote_plus(connection_string)\n",
    "# define sql alchemy engine\n",
    "engine = create_engine(\"mssql+pyodbc:///?odbc_connect=%s\" % params)\n",
    "df_test_2.to_sql(name=\"Department\",schema=\"HumanResources\", con=engine, index = False, if_exists='append')\n",
    "cnxn.commit()\n",
    "\n"
   ]
  }
 ],
 "metadata": {
  "kernelspec": {
   "display_name": "Python 3.8.8 ('base')",
   "language": "python",
   "name": "python3"
  },
  "language_info": {
   "codemirror_mode": {
    "name": "ipython",
    "version": 3
   },
   "file_extension": ".py",
   "mimetype": "text/x-python",
   "name": "python",
   "nbconvert_exporter": "python",
   "pygments_lexer": "ipython3",
   "version": "3.8.8"
  },
  "orig_nbformat": 4,
  "vscode": {
   "interpreter": {
    "hash": "302c0d46f582436470aa46d67f5b5eb265c7436d80c8e9bdd6e89c6d2725f851"
   }
  }
 },
 "nbformat": 4,
 "nbformat_minor": 2
}
